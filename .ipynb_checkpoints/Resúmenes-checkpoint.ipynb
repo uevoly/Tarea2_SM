{
 "cells": [
  {
   "cell_type": "markdown",
   "metadata": {},
   "source": [
    "## 5 REASONS YOU SHOULD LEARN PYTHON NOW\n",
    "*Artítulo del 2016*\n",
    "\n",
    "Python es el lenguaje más enseñado en las universidades y es el 4to más popular de acuerdo con la encuesta IEEE, seguido por java y C++. \n",
    "### ¿Python es útil?\n",
    "Beneficios:\n",
    "- Fácil de usar, poderoso y versátil.\n",
    "- Buena opción tanto para principiantes como expertos.\n",
    "- Permite ahorrar tiempo en aprender su sintaxis sencilla. \n",
    "- Requiere una configuración mínima para su uso.\n",
    "- Fácil de descargar e instalar.\n",
    "- Facilita el adentrarse a otros lenguajes de programación.\n",
    "- Ideal para la creación e iteración rápida de prototipos.\n",
    "\n",
    "Compañías como Google, Dropbox, Spotify y Netflix usan este lenguaje, algunas en su totalidad y otras lo usan en conjunto con otros lenguajes.\n",
    "\n",
    "Fuente: https://www.pluralsight.com/blog/software-development/why-python\n"
   ]
  },
  {
   "cell_type": "markdown",
   "metadata": {},
   "source": [
    "## Python is becoming the world’s most popular coding language\n",
    "*Artículo del 2018*\n",
    "\n",
    ">Ciertamente, no me propuse crear un lenguaje que fuera de consumo masivo. -Guido van Rossum, desarrollador de Python.\n",
    "\n",
    "Casi 3 decádas después de su desarrollo, Python ha superado a la mayoría de sus oponentes. En el último año ha sido *googleado* más veces que Kim Kardashian, mientras que algunos de los lenguajes más populares han decrecido.\n",
    "\n",
    "Las principales 2 ventajas de este lenguaje son su **simplicidad** y **flexibilidad**. Su **sintaxis sencilla** y **espaciados sin sangría** lo hacen fácil de aprender, leer y compartir. Los Pythonistas (su comunidad) han subido 145 mil paquetes de software a un repositorio en línea. Toda esta información puede ser descargada e instalada en cuestión de segundos. Esta versatilidad significa que grandes agencias y empresas han utilizado el repositorio para sus fines de interés.\n",
    "\n",
    "Aunque Python parece estar destinado a convertirse en el # 1 y dejar obsoletos a sus oponentes, debido a su rápido crecimiento de usuarios y amplias capacidades, esto es improbable de acuerdo con Grady Booch, científico jefe de software de IBM. Ël lo compara con los imperios, donde aun algunos de menor poder sobreviven. \n",
    "\n",
    "Fuente: https://www.economist.com/graphic-detail/2018/07/26/python-is-becoming-the-worlds-most-popular-coding-language"
   ]
  }
 ],
 "metadata": {
  "kernelspec": {
   "display_name": "Python 3",
   "language": "python",
   "name": "python3"
  },
  "language_info": {
   "codemirror_mode": {
    "name": "ipython",
    "version": 3
   },
   "file_extension": ".py",
   "mimetype": "text/x-python",
   "name": "python",
   "nbconvert_exporter": "python",
   "pygments_lexer": "ipython3",
   "version": "3.8.3"
  }
 },
 "nbformat": 4,
 "nbformat_minor": 4
}
